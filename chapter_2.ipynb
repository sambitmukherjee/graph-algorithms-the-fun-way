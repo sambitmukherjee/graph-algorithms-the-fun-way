{
  "nbformat": 4,
  "nbformat_minor": 0,
  "metadata": {
    "colab": {
      "provenance": [],
      "toc_visible": true,
      "authorship_tag": "ABX9TyOVjSgLjXLiDNFgYsP/AOUc"
    },
    "kernelspec": {
      "name": "python3",
      "display_name": "Python 3"
    },
    "language_info": {
      "name": "python"
    }
  },
  "cells": [
    {
      "cell_type": "markdown",
      "source": [
        "# Chapter 2 - Neighbors and Neighborhoods"
      ],
      "metadata": {
        "id": "CkIaaaiADMfE"
      }
    },
    {
      "cell_type": "markdown",
      "source": [
        "## Neighbors in Undirected Graphs"
      ],
      "metadata": {
        "id": "71C6YUU6DZYB"
      }
    },
    {
      "cell_type": "markdown",
      "source": [
        "---\n",
        "\n",
        "Exploratory:"
      ],
      "metadata": {
        "id": "Fu1J_OnPUNBE"
      }
    },
    {
      "cell_type": "code",
      "source": [
        "sample_space = set()\n",
        "sample_space"
      ],
      "metadata": {
        "colab": {
          "base_uri": "https://localhost:8080/"
        },
        "id": "B_3QRZbP3wqU",
        "outputId": "77e13151-b78e-492a-affc-efffd3b0c2fd"
      },
      "execution_count": 1,
      "outputs": [
        {
          "output_type": "execute_result",
          "data": {
            "text/plain": [
              "set()"
            ]
          },
          "metadata": {},
          "execution_count": 1
        }
      ]
    },
    {
      "cell_type": "code",
      "source": [
        "type(sample_space)"
      ],
      "metadata": {
        "colab": {
          "base_uri": "https://localhost:8080/"
        },
        "id": "Q3Rw90Wk33fm",
        "outputId": "d953df9f-310b-4c1c-cff1-b6f6d1b40741"
      },
      "execution_count": 2,
      "outputs": [
        {
          "output_type": "execute_result",
          "data": {
            "text/plain": [
              "set"
            ]
          },
          "metadata": {},
          "execution_count": 2
        }
      ]
    },
    {
      "cell_type": "code",
      "source": [
        "# Different:\n",
        "not_a_set = {}\n",
        "not_a_set"
      ],
      "metadata": {
        "colab": {
          "base_uri": "https://localhost:8080/"
        },
        "id": "H6kVFM2y37sg",
        "outputId": "1872238a-e747-493b-ca78-a1ba0fa834b1"
      },
      "execution_count": 3,
      "outputs": [
        {
          "output_type": "execute_result",
          "data": {
            "text/plain": [
              "{}"
            ]
          },
          "metadata": {},
          "execution_count": 3
        }
      ]
    },
    {
      "cell_type": "code",
      "source": [
        "type(not_a_set)"
      ],
      "metadata": {
        "colab": {
          "base_uri": "https://localhost:8080/"
        },
        "id": "zhuZA1l34A-L",
        "outputId": "ff09a4b7-349b-449f-98b0-789c7fccf318"
      },
      "execution_count": 4,
      "outputs": [
        {
          "output_type": "execute_result",
          "data": {
            "text/plain": [
              "dict"
            ]
          },
          "metadata": {},
          "execution_count": 4
        }
      ]
    },
    {
      "cell_type": "code",
      "source": [
        "sample_space.add('H')\n",
        "sample_space.add('T')\n",
        "sample_space"
      ],
      "metadata": {
        "colab": {
          "base_uri": "https://localhost:8080/"
        },
        "id": "pS3RMAQq4Di8",
        "outputId": "21e83710-d2b4-4e4c-a600-e5e3b6776b15"
      },
      "execution_count": 5,
      "outputs": [
        {
          "output_type": "execute_result",
          "data": {
            "text/plain": [
              "{'H', 'T'}"
            ]
          },
          "metadata": {},
          "execution_count": 5
        }
      ]
    },
    {
      "cell_type": "markdown",
      "source": [
        "**Note:** It's `add`, not `append`."
      ],
      "metadata": {
        "id": "ejK5e0poVU1t"
      }
    },
    {
      "cell_type": "code",
      "source": [
        "# Alt way to create the above set:\n",
        "sample_space = {'H', 'T'}\n",
        "sample_space"
      ],
      "metadata": {
        "colab": {
          "base_uri": "https://localhost:8080/"
        },
        "id": "2i1e0wm94Jtw",
        "outputId": "c05d4f91-b01e-4746-e7bd-dd39fc578358"
      },
      "execution_count": 6,
      "outputs": [
        {
          "output_type": "execute_result",
          "data": {
            "text/plain": [
              "{'H', 'T'}"
            ]
          },
          "metadata": {},
          "execution_count": 6
        }
      ]
    },
    {
      "cell_type": "code",
      "source": [
        "# We can easily convert a dict's keys to a set.\n",
        "hash_map = {'a': 1, 'b': 2, 'c': 3}\n",
        "set(hash_map.keys())"
      ],
      "metadata": {
        "colab": {
          "base_uri": "https://localhost:8080/"
        },
        "id": "4kJX1lLE4P75",
        "outputId": "5e1cad3f-a85e-45b6-bfaa-5379a3607173"
      },
      "execution_count": 7,
      "outputs": [
        {
          "output_type": "execute_result",
          "data": {
            "text/plain": [
              "{'a', 'b', 'c'}"
            ]
          },
          "metadata": {},
          "execution_count": 7
        }
      ]
    },
    {
      "cell_type": "markdown",
      "source": [
        "---\n",
        "\n",
        "We can add a short helper function to our `Node` class to compute the set of neighbors in an undirected graph."
      ],
      "metadata": {
        "id": "h1GsHH56UbPA"
      }
    },
    {
      "cell_type": "code",
      "source": [
        "class Edge:\n",
        "    def __init__(self, from_node: int, to_node: int, weight: float):\n",
        "        self.from_node = from_node\n",
        "        self.to_node = to_node\n",
        "        self.weight = weight"
      ],
      "metadata": {
        "id": "InfdVfrs4pi6"
      },
      "execution_count": 8,
      "outputs": []
    },
    {
      "cell_type": "code",
      "source": [
        "from typing import Optional, Union\n",
        "\n",
        "# Added the `get_neighbors` method; for use with undirected graphs.\n",
        "class Node:\n",
        "    def __init__(self, index: int, label: Optional[Union[int, str, object]] = None):\n",
        "        self.index = index\n",
        "        self.label = label\n",
        "        self.edges = {}\n",
        "\n",
        "    def num_edges(self) -> int:\n",
        "        return len(self.edges)\n",
        "\n",
        "    def get_edge(self, neighbor: int) -> Union[Edge, None]:\n",
        "        if neighbor in self.edges:\n",
        "            return self.edges[neighbor]\n",
        "        return None\n",
        "\n",
        "    def add_edge(self, neighbor: int, weight: float):\n",
        "        self.edges[neighbor] = Edge(self.index, neighbor, weight)\n",
        "\n",
        "    def remove_edge(self, neighbor: int):\n",
        "        if neighbor in self.edges:\n",
        "            del self.edges[neighbor]\n",
        "\n",
        "    def get_edge_list(self) -> list:\n",
        "        return list(self.edges.values())\n",
        "\n",
        "    def get_sorted_edge_list(self) -> list:\n",
        "        result = []\n",
        "        neighbors = list(self.edges.keys())\n",
        "        neighbors.sort()\n",
        "        for n in neighbors:\n",
        "            result.append(self.edges[n])\n",
        "        return result\n",
        "\n",
        "    # def get_neighbors(self) -> set:\n",
        "    #     neighbors = set()\n",
        "    #     for edge in self.edges.values():\n",
        "    #         neighbors.add(edge.to_node)\n",
        "    #     return neighbors\n",
        "\n",
        "    def get_neighbors(self) -> set:\n",
        "        return set(self.edges.keys())"
      ],
      "metadata": {
        "id": "0P4w87tEujEw"
      },
      "execution_count": 9,
      "outputs": []
    },
    {
      "cell_type": "markdown",
      "source": [
        "To test the `get_neighbors` method, let's create the undirected graph in Figure 2-1, and then call `get_neighbors` on each of its nodes."
      ],
      "metadata": {
        "id": "_iUGjUbY9hKF"
      }
    },
    {
      "cell_type": "code",
      "source": [
        "class Graph:\n",
        "    def __init__(self, num_nodes: int, undirected: bool = False):\n",
        "        self.num_nodes = num_nodes\n",
        "        self.undirected = undirected\n",
        "        self.nodes = [Node(j) for j in range(num_nodes)]\n",
        "        # Note: The index of a particular item in the above list will match the index attribute of the corresponding `Node` object.\n",
        "\n",
        "    def get_edge(self, from_node: int, to_node: int) -> Union[Edge, None]:\n",
        "        if from_node < 0 or from_node >= self.num_nodes:\n",
        "            raise IndexError\n",
        "        if to_node < 0 or to_node >= self.num_nodes:\n",
        "            raise IndexError\n",
        "        return self.nodes[from_node].get_edge(to_node) # This will return `None` if an edge from `from_node` to `to_node` doesn't exist.\n",
        "\n",
        "    def is_edge(self, from_node: int, to_node: int) -> bool:\n",
        "        return self.get_edge(from_node, to_node) is not None\n",
        "\n",
        "    def make_edge_list(self) -> list:\n",
        "        all_edges = []\n",
        "        for node in self.nodes:\n",
        "            all_edges.extend(node.get_edge_list())\n",
        "        return all_edges\n",
        "\n",
        "    def insert_edge(self, from_node: int, to_node: int, weight: float):\n",
        "        if from_node < 0 or from_node >= self.num_nodes:\n",
        "            raise IndexError\n",
        "        if to_node < 0 or to_node >= self.num_nodes:\n",
        "            raise IndexError\n",
        "        self.nodes[from_node].add_edge(to_node, weight)\n",
        "        if self.undirected:\n",
        "            self.nodes[to_node].add_edge(from_node, weight)\n",
        "\n",
        "    def remove_edge(self, from_node: int, to_node: int):\n",
        "        if from_node < 0 or from_node >= self.num_nodes:\n",
        "            raise IndexError\n",
        "        if to_node < 0 or to_node >= self.num_nodes:\n",
        "            raise IndexError\n",
        "        self.nodes[from_node].remove_edge(to_node)\n",
        "        if self.undirected:\n",
        "            self.nodes[to_node].remove_edge(from_node)\n",
        "\n",
        "    def insert_node(self, label: Optional[Union[int, str, object]] = None) -> Node:\n",
        "        new_node = Node(self.num_nodes, label=label)\n",
        "        self.nodes.append(new_node)\n",
        "        self.num_nodes += 1\n",
        "        return new_node\n",
        "\n",
        "    def make_copy(self):\n",
        "        g2 = Graph(self.num_nodes, self.undirected) # Note: We're instantiating a `Graph` object from within the `Graph` class.\n",
        "        for node in self.nodes:\n",
        "            g2.nodes[node.index].label = node.label\n",
        "            for edge in node.get_edge_list():\n",
        "                g2.insert_edge(edge.from_node, edge.to_node, edge.weight)\n",
        "        return g2\n",
        "\n",
        "    # Just for an experiment; no need to include this method for undirected graphs:\n",
        "    def get_in_neighbors(self, target: int) -> set:\n",
        "        neighbors = set()\n",
        "        for node in self.nodes:\n",
        "            if target in node.edges:\n",
        "                neighbors.add(node.index)\n",
        "        return neighbors"
      ],
      "metadata": {
        "id": "CHZukfm79_c-"
      },
      "execution_count": 10,
      "outputs": []
    },
    {
      "cell_type": "code",
      "source": [
        "undirected_g = Graph(num_nodes=6, undirected=True)\n",
        "undirected_g.insert_edge(0, 1, 1.0)\n",
        "undirected_g.insert_edge(0, 3, 1.0)\n",
        "undirected_g.insert_edge(0, 4, 1.0)\n",
        "# undirected_g.insert_edge(1, 0, 1.0)\n",
        "undirected_g.insert_edge(1, 2, 1.0)\n",
        "undirected_g.insert_edge(1, 4, 1.0)\n",
        "# undirected_g.insert_edge(2, 1, 1.0)\n",
        "undirected_g.insert_edge(2, 4, 1.0)\n",
        "undirected_g.insert_edge(2, 5, 1.0)\n",
        "# undirected_g.insert_edge(3, 0, 1.0)\n",
        "# undirected_g.insert_edge(4, 0, 1.0)\n",
        "# undirected_g.insert_edge(4, 1, 1.0)\n",
        "# undirected_g.insert_edge(4, 2, 1.0)\n",
        "undirected_g.insert_edge(4, 5, 1.0)\n",
        "# undirected_g.insert_edge(5, 2, 1.0)\n",
        "# undirected_g.insert_edge(5, 4, 1.0)"
      ],
      "metadata": {
        "id": "fTw9utld3wnP"
      },
      "execution_count": 11,
      "outputs": []
    },
    {
      "cell_type": "markdown",
      "source": [
        "**Note:** The commented lines aren't needed, because the `insert_edge` method of the `Graph` class takes care of inserting the corresponding *inverse edge* (in the case of an undirected graph). Notice that in the commented lines, the `to_node` argument has a lesser value than the `from_node` argument."
      ],
      "metadata": {
        "id": "zcwdFMBOANPs"
      }
    },
    {
      "cell_type": "code",
      "source": [
        "# Test:\n",
        "print(undirected_g.nodes[0].get_neighbors())\n",
        "print(undirected_g.nodes[1].get_neighbors())\n",
        "print(undirected_g.nodes[2].get_neighbors())\n",
        "print(undirected_g.nodes[3].get_neighbors())\n",
        "print(undirected_g.nodes[4].get_neighbors())\n",
        "print(undirected_g.nodes[5].get_neighbors())"
      ],
      "metadata": {
        "colab": {
          "base_uri": "https://localhost:8080/"
        },
        "id": "MgPZ0lxwN_vp",
        "outputId": "781fb4d2-6d35-4062-ac7f-c0ef51f6d746"
      },
      "execution_count": 12,
      "outputs": [
        {
          "output_type": "stream",
          "name": "stdout",
          "text": [
            "{1, 3, 4}\n",
            "{0, 2, 4}\n",
            "{1, 4, 5}\n",
            "{0}\n",
            "{0, 1, 2, 5}\n",
            "{2, 4}\n"
          ]
        }
      ]
    },
    {
      "cell_type": "markdown",
      "source": [
        "The method works!"
      ],
      "metadata": {
        "id": "U61j0p4jBzA5"
      }
    },
    {
      "cell_type": "markdown",
      "source": [
        "## Neighbors in Directed Graphs"
      ],
      "metadata": {
        "id": "kVtxA5EfDcuo"
      }
    },
    {
      "cell_type": "code",
      "source": [
        "# Added the `get_out_neighbors` method; for use with directed graphs.\n",
        "class Node:\n",
        "    def __init__(self, index: int, label: Optional[Union[int, str, object]] = None):\n",
        "        self.index = index\n",
        "        self.label = label\n",
        "        self.edges = {}\n",
        "\n",
        "    def num_edges(self) -> int:\n",
        "        return len(self.edges)\n",
        "\n",
        "    def get_edge(self, neighbor: int) -> Union[Edge, None]:\n",
        "        if neighbor in self.edges:\n",
        "            return self.edges[neighbor]\n",
        "        return None\n",
        "\n",
        "    def add_edge(self, neighbor: int, weight: float):\n",
        "        self.edges[neighbor] = Edge(self.index, neighbor, weight)\n",
        "\n",
        "    def remove_edge(self, neighbor: int):\n",
        "        if neighbor in self.edges:\n",
        "            del self.edges[neighbor]\n",
        "\n",
        "    def get_edge_list(self) -> list:\n",
        "        return list(self.edges.values())\n",
        "\n",
        "    def get_sorted_edge_list(self) -> list:\n",
        "        result = []\n",
        "        neighbors = list(self.edges.keys())\n",
        "        neighbors.sort()\n",
        "        for n in neighbors:\n",
        "            result.append(self.edges[n])\n",
        "        return result\n",
        "\n",
        "    def get_out_neighbors(self) -> set:\n",
        "        return set(self.edges.keys())"
      ],
      "metadata": {
        "id": "yEPAdf9OC4MY"
      },
      "execution_count": 13,
      "outputs": []
    },
    {
      "cell_type": "code",
      "source": [
        "# Added the `get_in_neighbors` method; for use with directed graphs.\n",
        "class Graph:\n",
        "    def __init__(self, num_nodes: int, undirected: bool = False):\n",
        "        self.num_nodes = num_nodes\n",
        "        self.undirected = undirected\n",
        "        self.nodes = [Node(j) for j in range(num_nodes)]\n",
        "        # Note: The index of a particular item in the above list will match the index attribute of the corresponding `Node` object.\n",
        "\n",
        "    def get_edge(self, from_node: int, to_node: int) -> Union[Edge, None]:\n",
        "        if from_node < 0 or from_node >= self.num_nodes:\n",
        "            raise IndexError\n",
        "        if to_node < 0 or to_node >= self.num_nodes:\n",
        "            raise IndexError\n",
        "        return self.nodes[from_node].get_edge(to_node) # This will return `None` if an edge from `from_node` to `to_node` doesn't exist.\n",
        "\n",
        "    def is_edge(self, from_node: int, to_node: int) -> bool:\n",
        "        return self.get_edge(from_node, to_node) is not None\n",
        "\n",
        "    def make_edge_list(self) -> list:\n",
        "        all_edges = []\n",
        "        for node in self.nodes:\n",
        "            all_edges.extend(node.get_edge_list())\n",
        "        return all_edges\n",
        "\n",
        "    def insert_edge(self, from_node: int, to_node: int, weight: float):\n",
        "        if from_node < 0 or from_node >= self.num_nodes:\n",
        "            raise IndexError\n",
        "        if to_node < 0 or to_node >= self.num_nodes:\n",
        "            raise IndexError\n",
        "        self.nodes[from_node].add_edge(to_node, weight)\n",
        "        if self.undirected:\n",
        "            self.nodes[to_node].add_edge(from_node, weight)\n",
        "\n",
        "    def remove_edge(self, from_node: int, to_node: int):\n",
        "        if from_node < 0 or from_node >= self.num_nodes:\n",
        "            raise IndexError\n",
        "        if to_node < 0 or to_node >= self.num_nodes:\n",
        "            raise IndexError\n",
        "        self.nodes[from_node].remove_edge(to_node)\n",
        "        if self.undirected:\n",
        "            self.nodes[to_node].remove_edge(from_node)\n",
        "\n",
        "    def insert_node(self, label: Optional[Union[int, str, object]] = None) -> Node:\n",
        "        new_node = Node(self.num_nodes, label=label)\n",
        "        self.nodes.append(new_node)\n",
        "        self.num_nodes += 1\n",
        "        return new_node\n",
        "\n",
        "    def make_copy(self):\n",
        "        g2 = Graph(self.num_nodes, self.undirected) # Note: We're instantiating a `Graph` object from within the `Graph` class.\n",
        "        for node in self.nodes:\n",
        "            g2.nodes[node.index].label = node.label\n",
        "            for edge in node.get_edge_list():\n",
        "                g2.insert_edge(edge.from_node, edge.to_node, edge.weight)\n",
        "        return g2\n",
        "\n",
        "    def get_in_neighbors(self, target: int) -> set: # `target` is the node from whose perspective we want to find the in-neighbors.\n",
        "        neighbors = set()\n",
        "        for node in self.nodes:\n",
        "            if target in node.edges:\n",
        "                neighbors.add(node.index)\n",
        "        return neighbors"
      ],
      "metadata": {
        "id": "IF6RycsjDhiM"
      },
      "execution_count": 14,
      "outputs": []
    },
    {
      "cell_type": "markdown",
      "source": [
        "![image.png](data:image/png;base64,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)"
      ],
      "metadata": {
        "id": "74HP_p4EWjr9"
      }
    },
    {
      "cell_type": "markdown",
      "source": [
        "To understand the `get_in_neighbors` method, let's refer to the graph in Figure 1-8. Let's say we want the in-neighbors of the `4` node. Looking at the graph, we see that it's the set `{0, 1, 3}`. But if we go to the `4` node, we'll only get its out-neighbors `{2, 3}` from its `edges` attribute. How do we algorithmically obtain the in-neighbors of the `4` node?\n",
        "\n",
        "Well, we need to iterate through each node in the graph, and check whether the index of the target node (i.e., `4`) is in the `edges` attribute of that node. (This is because an outgoing edge from the perspective of another node to the `4` node is an incoming edge from the perspective of the `4` node.) For example, for the `0` node, `4` is in its `edges` attribute, whereas for the `2` node, `4` isn't in its `edges` attribute. If `4` is in the `edges` attribute of the current node, then we add the index of the current node to the `neighbors` set.\n",
        "\n",
        "To test the `get_out_neighbors` and `get_in_neighbors` methods, let's create the directed graph in Figure 1-8, and then call these methods on each of its nodes."
      ],
      "metadata": {
        "id": "aGGJvsArUSI9"
      }
    },
    {
      "cell_type": "code",
      "source": [
        "directed_g = Graph(num_nodes=5, undirected=False)\n",
        "directed_g.insert_edge(0, 1, 1.0)\n",
        "directed_g.insert_edge(0, 3, 1.0)\n",
        "directed_g.insert_edge(0, 4, 3.0)\n",
        "directed_g.insert_edge(1, 2, 2.0)\n",
        "directed_g.insert_edge(1, 4, 1.0)\n",
        "directed_g.insert_edge(3, 4, 3.0)\n",
        "directed_g.insert_edge(4, 2, 3.0)\n",
        "directed_g.insert_edge(4, 3, 3.0)"
      ],
      "metadata": {
        "id": "WEOlgz27JGDg"
      },
      "execution_count": 15,
      "outputs": []
    },
    {
      "cell_type": "code",
      "source": [
        "# Test:\n",
        "print(directed_g.nodes[0].get_out_neighbors())\n",
        "print(directed_g.nodes[1].get_out_neighbors())\n",
        "print(directed_g.nodes[2].get_out_neighbors())\n",
        "print(directed_g.nodes[3].get_out_neighbors())\n",
        "print(directed_g.nodes[4].get_out_neighbors())"
      ],
      "metadata": {
        "colab": {
          "base_uri": "https://localhost:8080/"
        },
        "id": "tkqnHD2PJspB",
        "outputId": "67682bec-e5d0-43a5-f7e0-3c803e6c6319"
      },
      "execution_count": 16,
      "outputs": [
        {
          "output_type": "stream",
          "name": "stdout",
          "text": [
            "{1, 3, 4}\n",
            "{2, 4}\n",
            "set()\n",
            "{4}\n",
            "{2, 3}\n"
          ]
        }
      ]
    },
    {
      "cell_type": "code",
      "source": [
        "# Test:\n",
        "print(directed_g.get_in_neighbors(0))\n",
        "print(directed_g.get_in_neighbors(1))\n",
        "print(directed_g.get_in_neighbors(2))\n",
        "print(directed_g.get_in_neighbors(3))\n",
        "print(directed_g.get_in_neighbors(4))"
      ],
      "metadata": {
        "colab": {
          "base_uri": "https://localhost:8080/"
        },
        "id": "SNWF5mEoJ_fQ",
        "outputId": "42442c3f-716d-4402-988e-4cbef814dfd1"
      },
      "execution_count": 17,
      "outputs": [
        {
          "output_type": "stream",
          "name": "stdout",
          "text": [
            "set()\n",
            "{0}\n",
            "{1, 4}\n",
            "{0, 4}\n",
            "{0, 1, 3}\n"
          ]
        }
      ]
    },
    {
      "cell_type": "markdown",
      "source": [
        "The methods work!\n",
        "\n",
        "As an experiment, let's try running `get_in_neighbors` on `undirected_g`."
      ],
      "metadata": {
        "id": "8Cy7PtzfVobi"
      }
    },
    {
      "cell_type": "code",
      "source": [
        "# For reference, the output of `get_neighbors` was:\n",
        "# {1, 3, 4}\n",
        "# {0, 2, 4}\n",
        "# {1, 4, 5}\n",
        "# {0}\n",
        "# {0, 1, 2, 5}\n",
        "# {2, 4}"
      ],
      "metadata": {
        "id": "w2Lxy2wba31n"
      },
      "execution_count": 18,
      "outputs": []
    },
    {
      "cell_type": "code",
      "source": [
        "print(undirected_g.get_in_neighbors(0))\n",
        "print(undirected_g.get_in_neighbors(1))\n",
        "print(undirected_g.get_in_neighbors(2))\n",
        "print(undirected_g.get_in_neighbors(3))\n",
        "print(undirected_g.get_in_neighbors(4))\n",
        "print(undirected_g.get_in_neighbors(5))"
      ],
      "metadata": {
        "colab": {
          "base_uri": "https://localhost:8080/"
        },
        "id": "2g8X6y08P_HH",
        "outputId": "b6cbfc8d-e523-40a5-905b-1c129df2b6d8"
      },
      "execution_count": 19,
      "outputs": [
        {
          "output_type": "stream",
          "name": "stdout",
          "text": [
            "{1, 3, 4}\n",
            "{0, 2, 4}\n",
            "{1, 4, 5}\n",
            "{0}\n",
            "{0, 1, 2, 5}\n",
            "{2, 4}\n"
          ]
        }
      ]
    },
    {
      "cell_type": "markdown",
      "source": [
        "**Note:** In this book, we're representing edges in undirected graphs with a pair of directed edges (one outgoing and one incoming). Our `get_neighbors` method gets the indices of neighbors from the outgoing edges. But the above experiment works as well; it just gets the indices of neighbors from the incoming edges. This is significantly less efficient (as noted in the book)."
      ],
      "metadata": {
        "id": "C-JvgeKTcWN1"
      }
    },
    {
      "cell_type": "markdown",
      "source": [
        "## Self-Loops"
      ],
      "metadata": {
        "id": "EIAf1awcDh-m"
      }
    },
    {
      "cell_type": "markdown",
      "source": [
        "## Degree"
      ],
      "metadata": {
        "id": "uoOzEsy8DlOW"
      }
    },
    {
      "cell_type": "markdown",
      "source": [
        "---\n",
        "\n",
        "Exploratory:"
      ],
      "metadata": {
        "id": "6UBNhQs_tdZ2"
      }
    },
    {
      "cell_type": "code",
      "source": [
        "# Reminder:\n",
        "sample_space"
      ],
      "metadata": {
        "colab": {
          "base_uri": "https://localhost:8080/"
        },
        "id": "IPjIIa7hQTxm",
        "outputId": "6472bcdc-4904-44b8-e072-d4975ec68b4e"
      },
      "execution_count": 20,
      "outputs": [
        {
          "output_type": "execute_result",
          "data": {
            "text/plain": [
              "{'H', 'T'}"
            ]
          },
          "metadata": {},
          "execution_count": 20
        }
      ]
    },
    {
      "cell_type": "code",
      "source": [
        "# Cardinality:\n",
        "len(sample_space)"
      ],
      "metadata": {
        "colab": {
          "base_uri": "https://localhost:8080/"
        },
        "id": "5pkCFaDXQcLN",
        "outputId": "15fdb323-4c73-44b8-9791-3fa4a92ba902"
      },
      "execution_count": 21,
      "outputs": [
        {
          "output_type": "execute_result",
          "data": {
            "text/plain": [
              "2"
            ]
          },
          "metadata": {},
          "execution_count": 21
        }
      ]
    },
    {
      "cell_type": "markdown",
      "source": [
        "---"
      ],
      "metadata": {
        "id": "fp7VBJiOtfzR"
      }
    },
    {
      "cell_type": "markdown",
      "source": [
        "## Clustering Coefficient"
      ],
      "metadata": {
        "id": "hp82Q35ADoSJ"
      }
    },
    {
      "cell_type": "code",
      "source": [
        "def clustering_coefficient(g: Graph, ind: int) -> float:\n",
        "    neighbors = g.nodes[ind].get_neighbors()\n",
        "    num_neighbors = len(neighbors)\n",
        "    total_possible = (num_neighbors * (num_neighbors - 1)) / 2.0\n",
        "    if total_possible == 0.0:\n",
        "        return 0.0\n",
        "    count = 0\n",
        "    for n in neighbors:\n",
        "        for edge in g.nodes[n].get_edge_list():\n",
        "            if edge.to_node > edge.from_node and edge.to_node in neighbors:\n",
        "                count += 1\n",
        "    return count / total_possible"
      ],
      "metadata": {
        "id": "VWHLT7J33enZ"
      },
      "execution_count": 22,
      "outputs": []
    },
    {
      "cell_type": "code",
      "source": [
        "# Test:\n",
        "for node in range(6):\n",
        "    print(clustering_coefficient(undirected_g, node))"
      ],
      "metadata": {
        "colab": {
          "base_uri": "https://localhost:8080/"
        },
        "id": "aAOUm-FaA_HG",
        "outputId": "1422d558-dcf9-4e2f-ef57-dcf3eed36fe6"
      },
      "execution_count": 23,
      "outputs": [
        {
          "output_type": "stream",
          "name": "stdout",
          "text": [
            "0.3333333333333333\n",
            "0.6666666666666666\n",
            "0.6666666666666666\n",
            "0.0\n",
            "0.5\n",
            "1.0\n"
          ]
        }
      ]
    },
    {
      "cell_type": "markdown",
      "source": [
        "The function works!"
      ],
      "metadata": {
        "id": "6t29JRJmBUl8"
      }
    },
    {
      "cell_type": "code",
      "source": [
        "def ave_clustering_coefficient(g: Graph) -> float:\n",
        "    if g.num_nodes == 0:\n",
        "        return 0.0\n",
        "    total = 0.0\n",
        "    for n in range(g.num_nodes):\n",
        "        total += clustering_coefficient(g, n)\n",
        "    return total / g.num_nodes"
      ],
      "metadata": {
        "id": "4e-c-bSEBgOr"
      },
      "execution_count": 24,
      "outputs": []
    },
    {
      "cell_type": "code",
      "source": [
        "# Test:\n",
        "ave_clustering_coefficient(undirected_g)"
      ],
      "metadata": {
        "colab": {
          "base_uri": "https://localhost:8080/"
        },
        "id": "rC_fZMMqCCQY",
        "outputId": "8849a1d1-b43b-4c6f-b24b-fe61c0c204f9"
      },
      "execution_count": 25,
      "outputs": [
        {
          "output_type": "execute_result",
          "data": {
            "text/plain": [
              "0.5277777777777778"
            ]
          },
          "metadata": {},
          "execution_count": 25
        }
      ]
    },
    {
      "cell_type": "markdown",
      "source": [
        "## Generating Neighborhood Subgraphs"
      ],
      "metadata": {
        "id": "fyOKgB7PDr56"
      }
    },
    {
      "cell_type": "code",
      "source": [
        "# Back to the `Node` class for use with undirected graphs (with a `get_neighbors` method).\n",
        "class Node:\n",
        "    def __init__(self, index: int, label: Optional[Union[int, str, object]] = None):\n",
        "        self.index = index\n",
        "        self.label = label\n",
        "        self.edges = {}\n",
        "\n",
        "    def num_edges(self) -> int:\n",
        "        return len(self.edges)\n",
        "\n",
        "    def get_edge(self, neighbor: int) -> Union[Edge, None]:\n",
        "        if neighbor in self.edges:\n",
        "            return self.edges[neighbor]\n",
        "        return None\n",
        "\n",
        "    def add_edge(self, neighbor: int, weight: float):\n",
        "        self.edges[neighbor] = Edge(self.index, neighbor, weight)\n",
        "\n",
        "    def remove_edge(self, neighbor: int):\n",
        "        if neighbor in self.edges:\n",
        "            del self.edges[neighbor]\n",
        "\n",
        "    def get_edge_list(self) -> list:\n",
        "        return list(self.edges.values())\n",
        "\n",
        "    def get_sorted_edge_list(self) -> list:\n",
        "        result = []\n",
        "        neighbors = list(self.edges.keys())\n",
        "        neighbors.sort()\n",
        "        for n in neighbors:\n",
        "            result.append(self.edges[n])\n",
        "        return result\n",
        "\n",
        "    def get_neighbors(self) -> set:\n",
        "        return set(self.edges.keys())"
      ],
      "metadata": {
        "id": "eVBEzlwS9cC5"
      },
      "execution_count": 26,
      "outputs": []
    },
    {
      "cell_type": "code",
      "source": [
        "# Added the `make_undirected_neighborhood_subgraph` method; for use with undirected graphs.\n",
        "class Graph:\n",
        "    def __init__(self, num_nodes: int, undirected: bool = False):\n",
        "        self.num_nodes = num_nodes\n",
        "        self.undirected = undirected\n",
        "        self.nodes = [Node(j) for j in range(num_nodes)]\n",
        "        # Note: The index of a particular item in the above list will match the index attribute of the corresponding `Node` object.\n",
        "\n",
        "    def get_edge(self, from_node: int, to_node: int) -> Union[Edge, None]:\n",
        "        if from_node < 0 or from_node >= self.num_nodes:\n",
        "            raise IndexError\n",
        "        if to_node < 0 or to_node >= self.num_nodes:\n",
        "            raise IndexError\n",
        "        return self.nodes[from_node].get_edge(to_node) # This will return `None` if an edge from `from_node` to `to_node` doesn't exist.\n",
        "\n",
        "    def is_edge(self, from_node: int, to_node: int) -> bool:\n",
        "        return self.get_edge(from_node, to_node) is not None\n",
        "\n",
        "    def make_edge_list(self) -> list:\n",
        "        all_edges = []\n",
        "        for node in self.nodes:\n",
        "            all_edges.extend(node.get_edge_list())\n",
        "        return all_edges\n",
        "\n",
        "    def insert_edge(self, from_node: int, to_node: int, weight: float):\n",
        "        if from_node < 0 or from_node >= self.num_nodes:\n",
        "            raise IndexError\n",
        "        if to_node < 0 or to_node >= self.num_nodes:\n",
        "            raise IndexError\n",
        "        self.nodes[from_node].add_edge(to_node, weight)\n",
        "        if self.undirected:\n",
        "            self.nodes[to_node].add_edge(from_node, weight)\n",
        "\n",
        "    def remove_edge(self, from_node: int, to_node: int):\n",
        "        if from_node < 0 or from_node >= self.num_nodes:\n",
        "            raise IndexError\n",
        "        if to_node < 0 or to_node >= self.num_nodes:\n",
        "            raise IndexError\n",
        "        self.nodes[from_node].remove_edge(to_node)\n",
        "        if self.undirected:\n",
        "            self.nodes[to_node].remove_edge(from_node)\n",
        "\n",
        "    def insert_node(self, label: Optional[Union[int, str, object]] = None) -> Node:\n",
        "        new_node = Node(self.num_nodes, label=label)\n",
        "        self.nodes.append(new_node)\n",
        "        self.num_nodes += 1\n",
        "        return new_node\n",
        "\n",
        "    def make_copy(self):\n",
        "        g2 = Graph(self.num_nodes, self.undirected) # Note: We're instantiating a `Graph` object from within the `Graph` class.\n",
        "        for node in self.nodes:\n",
        "            g2.nodes[node.index].label = node.label\n",
        "            for edge in node.get_edge_list():\n",
        "                g2.insert_edge(edge.from_node, edge.to_node, edge.weight)\n",
        "        return g2\n",
        "\n",
        "    def make_undirected_neighborhood_subgraph(self, ind: int, closed: bool):\n",
        "        if not self.undirected:\n",
        "            raise ValueError\n",
        "\n",
        "        nodes_to_use = self.nodes[ind].get_neighbors()\n",
        "        if closed:\n",
        "            nodes_to_use.add(ind)\n",
        "\n",
        "        index_map = {}\n",
        "        for new_index, old_index in enumerate(nodes_to_use): # Note: It's (obviously) possible to enumerate the elements of a set.\n",
        "            index_map[old_index] = new_index\n",
        "\n",
        "        g_new = Graph(len(nodes_to_use), undirected=True)\n",
        "        for n in nodes_to_use:\n",
        "            for edge in self.nodes[n].get_edge_list():\n",
        "                if edge.to_node > edge.from_node and edge.to_node in nodes_to_use:\n",
        "                    ind1_new = index_map[edge.from_node]\n",
        "                    ind2_new = index_map[edge.to_node]\n",
        "                    g_new.insert_edge(ind1_new, ind2_new, edge.weight)\n",
        "        return g_new"
      ],
      "metadata": {
        "id": "aKGioICF9oSJ"
      },
      "execution_count": 27,
      "outputs": []
    },
    {
      "cell_type": "markdown",
      "source": [
        "Let's try generating (i) an open neighborhood subgraph and (ii) a closed neighborhood subgraph of node `1` in Figure 2-1."
      ],
      "metadata": {
        "id": "lvje2dcERmgc"
      }
    },
    {
      "cell_type": "code",
      "source": [
        "# Copying from a cell above:\n",
        "undirected_g = Graph(num_nodes=6, undirected=True)\n",
        "undirected_g.insert_edge(0, 1, 1.0)\n",
        "undirected_g.insert_edge(0, 3, 1.0)\n",
        "undirected_g.insert_edge(0, 4, 1.0)\n",
        "# undirected_g.insert_edge(1, 0, 1.0)\n",
        "undirected_g.insert_edge(1, 2, 1.0)\n",
        "undirected_g.insert_edge(1, 4, 1.0)\n",
        "# undirected_g.insert_edge(2, 1, 1.0)\n",
        "undirected_g.insert_edge(2, 4, 1.0)\n",
        "undirected_g.insert_edge(2, 5, 1.0)\n",
        "# undirected_g.insert_edge(3, 0, 1.0)\n",
        "# undirected_g.insert_edge(4, 0, 1.0)\n",
        "# undirected_g.insert_edge(4, 1, 1.0)\n",
        "# undirected_g.insert_edge(4, 2, 1.0)\n",
        "undirected_g.insert_edge(4, 5, 1.0)\n",
        "# undirected_g.insert_edge(5, 2, 1.0)\n",
        "# undirected_g.insert_edge(5, 4, 1.0)"
      ],
      "metadata": {
        "id": "Ski-fSyoRxYv"
      },
      "execution_count": 28,
      "outputs": []
    },
    {
      "cell_type": "code",
      "source": [
        "open_neighborhood_subgraph = undirected_g.make_undirected_neighborhood_subgraph(1, closed=False)\n",
        "open_neighborhood_subgraph.num_nodes"
      ],
      "metadata": {
        "colab": {
          "base_uri": "https://localhost:8080/"
        },
        "id": "iHi-eAprAF8w",
        "outputId": "95b56c72-955c-4e79-efec-4e53fc679057"
      },
      "execution_count": 29,
      "outputs": [
        {
          "output_type": "execute_result",
          "data": {
            "text/plain": [
              "3"
            ]
          },
          "metadata": {},
          "execution_count": 29
        }
      ]
    },
    {
      "cell_type": "code",
      "source": [
        "for node in open_neighborhood_subgraph.nodes:\n",
        "    print(node.index)\n",
        "    print(\"---\")\n",
        "    for edge in node.get_edge_list():\n",
        "        print(edge.from_node, \" \", edge.to_node, \" \", edge.weight)\n",
        "        print(\"---\")\n",
        "    print(\"~~~\")"
      ],
      "metadata": {
        "colab": {
          "base_uri": "https://localhost:8080/"
        },
        "id": "DUz_Z9BZAfUu",
        "outputId": "818a5566-d2c0-4962-c88e-628389e9ef87"
      },
      "execution_count": 30,
      "outputs": [
        {
          "output_type": "stream",
          "name": "stdout",
          "text": [
            "0\n",
            "---\n",
            "0   2   1.0\n",
            "---\n",
            "~~~\n",
            "1\n",
            "---\n",
            "1   2   1.0\n",
            "---\n",
            "~~~\n",
            "2\n",
            "---\n",
            "2   0   1.0\n",
            "---\n",
            "2   1   1.0\n",
            "---\n",
            "~~~\n"
          ]
        }
      ]
    },
    {
      "cell_type": "markdown",
      "source": [
        "**Note:** After re-indexing, node `0` has remained node `0`, node `2` has become node `1`, and node `4` has become node `2`. The above output is therefore correct!"
      ],
      "metadata": {
        "id": "w6G4WFDjUEQs"
      }
    },
    {
      "cell_type": "code",
      "source": [
        "closed_neighborhood_subgraph = undirected_g.make_undirected_neighborhood_subgraph(1, closed=True)\n",
        "closed_neighborhood_subgraph.num_nodes"
      ],
      "metadata": {
        "colab": {
          "base_uri": "https://localhost:8080/"
        },
        "id": "-VupqyyGA_cH",
        "outputId": "f39fae3b-6fb2-4391-ce02-ed2c9db71b4a"
      },
      "execution_count": 31,
      "outputs": [
        {
          "output_type": "execute_result",
          "data": {
            "text/plain": [
              "4"
            ]
          },
          "metadata": {},
          "execution_count": 31
        }
      ]
    },
    {
      "cell_type": "code",
      "source": [
        "for node in closed_neighborhood_subgraph.nodes:\n",
        "    print(node.index)\n",
        "    print(\"---\")\n",
        "    for edge in node.get_edge_list():\n",
        "        print(edge.from_node, \" \", edge.to_node, \" \", edge.weight)\n",
        "        print(\"---\")\n",
        "    print(\"~~~\")"
      ],
      "metadata": {
        "colab": {
          "base_uri": "https://localhost:8080/"
        },
        "id": "bNXawcNDBOCe",
        "outputId": "5f60ad87-4699-4abe-fe66-61cc2f0c5e01"
      },
      "execution_count": 32,
      "outputs": [
        {
          "output_type": "stream",
          "name": "stdout",
          "text": [
            "0\n",
            "---\n",
            "0   1   1.0\n",
            "---\n",
            "0   3   1.0\n",
            "---\n",
            "~~~\n",
            "1\n",
            "---\n",
            "1   0   1.0\n",
            "---\n",
            "1   2   1.0\n",
            "---\n",
            "1   3   1.0\n",
            "---\n",
            "~~~\n",
            "2\n",
            "---\n",
            "2   1   1.0\n",
            "---\n",
            "2   3   1.0\n",
            "---\n",
            "~~~\n",
            "3\n",
            "---\n",
            "3   0   1.0\n",
            "---\n",
            "3   1   1.0\n",
            "---\n",
            "3   2   1.0\n",
            "---\n",
            "~~~\n"
          ]
        }
      ]
    },
    {
      "cell_type": "markdown",
      "source": [
        "**Note:** After re-indexing, node `0` has remained node `0`, node `1` has remained node `1`, node `2` has remained node `2`, and node `4` has become node `3`. The above output is therefore correct!"
      ],
      "metadata": {
        "id": "MhYX5itJVGYi"
      }
    },
    {
      "cell_type": "markdown",
      "source": [
        "## Why This Matters"
      ],
      "metadata": {
        "id": "mRYdFqKnDxvD"
      }
    },
    {
      "cell_type": "code",
      "execution_count": 32,
      "metadata": {
        "id": "LEyR0MEQDDCR"
      },
      "outputs": [],
      "source": []
    }
  ]
}