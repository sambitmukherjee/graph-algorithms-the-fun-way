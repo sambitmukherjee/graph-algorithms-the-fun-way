{
  "nbformat": 4,
  "nbformat_minor": 0,
  "metadata": {
    "colab": {
      "provenance": [],
      "authorship_tag": "ABX9TyMvBIRH0gH5lJdSBBIpd3cY"
    },
    "kernelspec": {
      "name": "python3",
      "display_name": "Python 3"
    },
    "language_info": {
      "name": "python"
    }
  },
  "cells": [
    {
      "cell_type": "markdown",
      "source": [
        "# Chapter 1 - Representing Graphs"
      ],
      "metadata": {
        "id": "iaAyVfLXCBKt"
      }
    },
    {
      "cell_type": "markdown",
      "source": [
        "## Graph Structure"
      ],
      "metadata": {
        "id": "V0hTVZjnCa_d"
      }
    },
    {
      "cell_type": "markdown",
      "source": [
        "## The Adjacency List Representation"
      ],
      "metadata": {
        "id": "84_RqVXfCdSC"
      }
    },
    {
      "cell_type": "code",
      "source": [
        "g: list = [[1, 3, 4], [0, 2, 4], [1, 4], [0, 4], [0, 1, 2, 3]]\n",
        "g"
      ],
      "metadata": {
        "colab": {
          "base_uri": "https://localhost:8080/"
        },
        "id": "HTeBTcU_jgu0",
        "outputId": "431bfe7c-4eb6-481e-88c7-190784b3c149"
      },
      "execution_count": null,
      "outputs": [
        {
          "output_type": "execute_result",
          "data": {
            "text/plain": [
              "[[1, 3, 4], [0, 2, 4], [1, 4], [0, 4], [0, 1, 2, 3]]"
            ]
          },
          "metadata": {},
          "execution_count": 1
        }
      ]
    },
    {
      "cell_type": "code",
      "source": [
        "class Edge:\n",
        "    def __init__(self, from_node: int, to_node: int, weight: float):\n",
        "        self.from_node: int = from_node\n",
        "        self.to_node: int = to_node\n",
        "        self.weight: float = weight"
      ],
      "metadata": {
        "id": "TKMVHHRijqym"
      },
      "execution_count": null,
      "outputs": []
    },
    {
      "cell_type": "markdown",
      "source": [
        "---\n",
        "\n",
        "Exploratory:"
      ],
      "metadata": {
        "id": "17t7MuOl2tyl"
      }
    },
    {
      "cell_type": "code",
      "source": [
        "d = {'a': 1, 'b': 2}\n",
        "d.values()"
      ],
      "metadata": {
        "colab": {
          "base_uri": "https://localhost:8080/"
        },
        "id": "Cin6LJd4j8kN",
        "outputId": "a536a3cd-4728-4690-81b1-c20538c863e5"
      },
      "execution_count": null,
      "outputs": [
        {
          "output_type": "execute_result",
          "data": {
            "text/plain": [
              "dict_values([1, 2])"
            ]
          },
          "metadata": {},
          "execution_count": 3
        }
      ]
    },
    {
      "cell_type": "code",
      "source": [
        "list(d.values())"
      ],
      "metadata": {
        "colab": {
          "base_uri": "https://localhost:8080/"
        },
        "id": "5A2IKDNckBY0",
        "outputId": "354df3da-f111-4a58-85f7-b57890c5d70b"
      },
      "execution_count": null,
      "outputs": [
        {
          "output_type": "execute_result",
          "data": {
            "text/plain": [
              "[1, 2]"
            ]
          },
          "metadata": {},
          "execution_count": 4
        }
      ]
    },
    {
      "cell_type": "code",
      "source": [
        "# Alt:\n",
        "(list)(d.values())"
      ],
      "metadata": {
        "colab": {
          "base_uri": "https://localhost:8080/"
        },
        "id": "myL0SKOekD1T",
        "outputId": "bb46d928-9d80-4e34-a68f-84bd74906d58"
      },
      "execution_count": null,
      "outputs": [
        {
          "output_type": "execute_result",
          "data": {
            "text/plain": [
              "[1, 2]"
            ]
          },
          "metadata": {},
          "execution_count": 5
        }
      ]
    },
    {
      "cell_type": "code",
      "source": [
        "(d.values())"
      ],
      "metadata": {
        "colab": {
          "base_uri": "https://localhost:8080/"
        },
        "id": "xLoWEHwjkJH8",
        "outputId": "dd18993f-6322-41a8-94dc-b9b3f136f95d"
      },
      "execution_count": null,
      "outputs": [
        {
          "output_type": "execute_result",
          "data": {
            "text/plain": [
              "dict_values([1, 2])"
            ]
          },
          "metadata": {},
          "execution_count": 6
        }
      ]
    },
    {
      "cell_type": "code",
      "source": [
        "d.keys()"
      ],
      "metadata": {
        "colab": {
          "base_uri": "https://localhost:8080/"
        },
        "id": "JoKtl6LAkLcH",
        "outputId": "2334bdf4-63c4-42bf-d769-b0c026595c03"
      },
      "execution_count": null,
      "outputs": [
        {
          "output_type": "execute_result",
          "data": {
            "text/plain": [
              "dict_keys(['a', 'b'])"
            ]
          },
          "metadata": {},
          "execution_count": 7
        }
      ]
    },
    {
      "cell_type": "code",
      "source": [
        "list(d.keys())"
      ],
      "metadata": {
        "colab": {
          "base_uri": "https://localhost:8080/"
        },
        "id": "XkbvC79TkN-T",
        "outputId": "e7b24eac-0855-488c-978a-31833f1669b5"
      },
      "execution_count": null,
      "outputs": [
        {
          "output_type": "execute_result",
          "data": {
            "text/plain": [
              "['a', 'b']"
            ]
          },
          "metadata": {},
          "execution_count": 8
        }
      ]
    },
    {
      "cell_type": "code",
      "source": [
        "# Alt:\n",
        "(list)(d.keys())"
      ],
      "metadata": {
        "colab": {
          "base_uri": "https://localhost:8080/"
        },
        "id": "vikam1UNkQHL",
        "outputId": "daa5edc0-34a1-43c3-d0b4-6ad0ebfee27c"
      },
      "execution_count": null,
      "outputs": [
        {
          "output_type": "execute_result",
          "data": {
            "text/plain": [
              "['a', 'b']"
            ]
          },
          "metadata": {},
          "execution_count": 9
        }
      ]
    },
    {
      "cell_type": "code",
      "source": [
        "(d.keys())"
      ],
      "metadata": {
        "colab": {
          "base_uri": "https://localhost:8080/"
        },
        "id": "yw_NTQjTkTfl",
        "outputId": "1d84e0dd-b7b1-4a57-d8cf-7bfb0ec79ec8"
      },
      "execution_count": null,
      "outputs": [
        {
          "output_type": "execute_result",
          "data": {
            "text/plain": [
              "dict_keys(['a', 'b'])"
            ]
          },
          "metadata": {},
          "execution_count": 10
        }
      ]
    },
    {
      "cell_type": "markdown",
      "source": [
        "---\n",
        "\n",
        "Exploratory:"
      ],
      "metadata": {
        "id": "K1PrmZ2q2vf9"
      }
    },
    {
      "cell_type": "code",
      "source": [
        "l = [3, 5, 4]\n",
        "# Not in-place:\n",
        "sorted(l)"
      ],
      "metadata": {
        "colab": {
          "base_uri": "https://localhost:8080/"
        },
        "id": "Ac0mE4Xlkb_h",
        "outputId": "cc6e7904-8c55-4138-eece-bded5aefbd9f"
      },
      "execution_count": null,
      "outputs": [
        {
          "output_type": "execute_result",
          "data": {
            "text/plain": [
              "[3, 4, 5]"
            ]
          },
          "metadata": {},
          "execution_count": 11
        }
      ]
    },
    {
      "cell_type": "code",
      "source": [
        "l"
      ],
      "metadata": {
        "colab": {
          "base_uri": "https://localhost:8080/"
        },
        "id": "QdO6lIzckgcE",
        "outputId": "8487918c-b132-40f8-dd71-58ac5e228cc3"
      },
      "execution_count": null,
      "outputs": [
        {
          "output_type": "execute_result",
          "data": {
            "text/plain": [
              "[3, 5, 4]"
            ]
          },
          "metadata": {},
          "execution_count": 12
        }
      ]
    },
    {
      "cell_type": "code",
      "source": [
        "# In-place:\n",
        "l.sort()"
      ],
      "metadata": {
        "id": "BnZ0JRWWkhrF"
      },
      "execution_count": null,
      "outputs": []
    },
    {
      "cell_type": "code",
      "source": [
        "l"
      ],
      "metadata": {
        "colab": {
          "base_uri": "https://localhost:8080/"
        },
        "id": "HSyxn1JUkljR",
        "outputId": "77dfdf1a-0a09-4f18-d029-832d5d42f17b"
      },
      "execution_count": null,
      "outputs": [
        {
          "output_type": "execute_result",
          "data": {
            "text/plain": [
              "[3, 4, 5]"
            ]
          },
          "metadata": {},
          "execution_count": 14
        }
      ]
    },
    {
      "cell_type": "markdown",
      "source": [
        "---"
      ],
      "metadata": {
        "id": "DnVmPDdG2xlB"
      }
    },
    {
      "cell_type": "code",
      "source": [
        "# Exploratory:\n",
        "print(d)\n",
        "print(len(d))"
      ],
      "metadata": {
        "colab": {
          "base_uri": "https://localhost:8080/"
        },
        "id": "bjfHouEKLUrG",
        "outputId": "fb1b768d-c5b0-4577-ed49-1a26f2955449"
      },
      "execution_count": null,
      "outputs": [
        {
          "output_type": "stream",
          "name": "stdout",
          "text": [
            "{'a': 1, 'b': 2}\n",
            "2\n"
          ]
        }
      ]
    },
    {
      "cell_type": "code",
      "source": [
        "from typing import Union\n",
        "\n",
        "class Node:\n",
        "    def __init__(self, index: int, label: Union[int, str, object]=None):\n",
        "        self.index: int = index\n",
        "        self.edges: dict = {}\n",
        "        self.label: Union[int, str, object] = label\n",
        "\n",
        "    def num_edges(self) -> int:\n",
        "        return len(self.edges)\n",
        "\n",
        "    def get_edge(self, neighbor: int) -> Union[Edge, None]:\n",
        "        if neighbor in self.edges:\n",
        "            return self.edges[neighbor]\n",
        "        return None\n",
        "\n",
        "    def add_edge(self, neighbor: int, weight: float):\n",
        "        self.edges[neighbor] = Edge(self.index, neighbor, weight)\n",
        "\n",
        "    def remove_edge(self, neighbor: int):\n",
        "        if neighbor in self.edges:\n",
        "            del self.edges[neighbor]\n",
        "\n",
        "    def get_edge_list(self) -> list:\n",
        "        return list(self.edges.values())\n",
        "\n",
        "    def get_sorted_edge_list(self) -> list:\n",
        "        result: list = []\n",
        "        neighbors: list = list(self.edges.keys())\n",
        "        neighbors.sort()\n",
        "        for n in neighbors:\n",
        "            result.append(self.edges[n])\n",
        "        return result"
      ],
      "metadata": {
        "id": "LfMwMP5SKwZF"
      },
      "execution_count": null,
      "outputs": []
    },
    {
      "cell_type": "markdown",
      "source": [
        "**Note:** In the above class, `neighbor` refers to (the index of) a neighboring node."
      ],
      "metadata": {
        "id": "CvM5xcVuMDET"
      }
    },
    {
      "cell_type": "code",
      "source": [
        "class Graph:\n",
        "    def __init__(self, num_nodes: int, undirected: bool=False):\n",
        "        self.num_nodes: int = num_nodes\n",
        "        self.undirected: bool = undirected\n",
        "        self.nodes: list = [Node(j) for j in range(num_nodes)]\n",
        "        # Note: The index of a particular item in the above list will match the index attribute of the corresponding `Node` object.\n",
        "\n",
        "    def get_edge(self, from_node: int, to_node: int) -> Union[Edge, None]:\n",
        "        if from_node < 0 or from_node >= self.num_nodes:\n",
        "            raise IndexError\n",
        "        if to_node < 0 or to_node >= self.num_nodes:\n",
        "            raise IndexError\n",
        "        return self.nodes[from_node].get_edge(to_node) # This will return `None` if an edge from `from_node` to `to_node` doesn't exist.\n",
        "\n",
        "    def is_edge(self, from_node: int, to_node: int) -> bool:\n",
        "        return self.get_edge(from_node, to_node) is not None\n",
        "\n",
        "    def make_edge_list(self) -> list:\n",
        "        all_edges: list = []\n",
        "        for node in self.nodes:\n",
        "            all_edges.extend(node.get_edge_list())\n",
        "        return all_edges\n",
        "\n",
        "    def insert_edge(self, from_node: int, to_node: int, weight: float):\n",
        "        if from_node < 0 or from_node >= self.num_nodes:\n",
        "            raise IndexError\n",
        "        if to_node < 0 or to_node >= self.num_nodes:\n",
        "            raise IndexError\n",
        "        self.nodes[from_node].add_edge(to_node, weight)\n",
        "        if self.undirected:\n",
        "            self.nodes[to_node].add_edge(from_node, weight)\n",
        "\n",
        "    def remove_edge(self, from_node: int, to_node: int):\n",
        "        if from_node < 0 or from_node >= self.num_nodes:\n",
        "            raise IndexError\n",
        "        if to_node < 0 or to_node >= self.num_nodes:\n",
        "            raise IndexError\n",
        "        self.nodes[from_node].remove_edge(to_node)\n",
        "        if self.undirected:\n",
        "            self.nodes[to_node].remove_edge(from_node)\n",
        "\n",
        "    def insert_node(self, label:Union[int, str, object]=None) -> Node:\n",
        "        new_node: Node = Node(self.num_nodes, label=label)\n",
        "        self.nodes.append(new_node)\n",
        "        self.num_nodes += 1\n",
        "        return new_node\n",
        "\n",
        "    def make_copy(self) -> Graph:\n",
        "        g2: Graph = Graph(self.num_nodes, self.undirected) # Note: We're instantiating a `Graph` object from within the `Graph` class.\n",
        "        for node in self.nodes:\n",
        "            g2.nodes[node.index].label = node.label\n",
        "            for edge in node.get_edge_list():\n",
        "                g2.insert_edge(edge.from_node, edge.to_node, edge.weight)\n",
        "        return g2"
      ],
      "metadata": {
        "id": "ttb-CpFkcrzT"
      },
      "execution_count": null,
      "outputs": []
    },
    {
      "cell_type": "markdown",
      "source": [
        "**Note:**\n",
        "\n",
        "1. There is no `remove_node` method.\n",
        "2. The `insert_edge` method can be used to (i) add a new edge and (ii) update an existing edge weight (by replacing the existing `Edge` object with a new one)."
      ],
      "metadata": {
        "id": "2yJSjLaKa0ct"
      }
    },
    {
      "cell_type": "code",
      "source": [
        "g: Graph = Graph(5, undirected=False)\n",
        "g.insert_edge(0, 1, 1.0)\n",
        "g.insert_edge(0, 3, 1.0)\n",
        "g.insert_edge(0, 4, 3.0)\n",
        "g.insert_edge(1, 2, 2.0)\n",
        "g.insert_edge(1, 4, 1.0)\n",
        "g.insert_edge(3, 4, 3.0)\n",
        "g.insert_edge(4, 2, 3.0)\n",
        "g.insert_edge(4, 3, 3.0)"
      ],
      "metadata": {
        "id": "0VxeFnnUni1h"
      },
      "execution_count": null,
      "outputs": []
    },
    {
      "cell_type": "markdown",
      "source": [
        "## The Adjacency Matrix Representation"
      ],
      "metadata": {
        "id": "sO_rj0jwCosZ"
      }
    },
    {
      "cell_type": "code",
      "source": [
        "class GraphMatrix:\n",
        "    def __init__(self, num_nodes: int, undirected: bool=False):\n",
        "        self.num_nodes: int = num_nodes\n",
        "        self.undirected: bool = undirected\n",
        "        self.connections: list = [[0.0] * num_nodes for _ in range(num_nodes)]\n",
        "\n",
        "    def get_edge(self, from_node: int, to_node: int) -> float:\n",
        "        if from_node < 0 or from_node >= self.num_nodes:\n",
        "            raise IndexError\n",
        "        if to_node < 0 or to_node >= self.num_nodes:\n",
        "            raise IndexError\n",
        "        return self.connections[from_node][to_node]\n",
        "\n",
        "    def set_edge(self, from_node: int, to_node: int, weight: float):\n",
        "        if from_node < 0 or from_node >= self.num_nodes:\n",
        "            raise IndexError\n",
        "        if to_node < 0 or to_node >= self.num_nodes:\n",
        "            raise IndexError\n",
        "        self.connections[from_node][to_node] = weight\n",
        "        if self.undirected:\n",
        "            self.connections[to_node][from_node] = weight"
      ],
      "metadata": {
        "id": "DMwd8rVdlxxJ"
      },
      "execution_count": null,
      "outputs": []
    },
    {
      "cell_type": "markdown",
      "source": [
        "**Note:** If the above class, there is no provision to add a node after the graph has been instantiated."
      ],
      "metadata": {
        "id": "i6YicsNApcok"
      }
    },
    {
      "cell_type": "code",
      "source": [
        "g: GraphMatrix = GraphMatrix(5, undirected=False)\n",
        "g.set_edge(0, 1, 1.0)\n",
        "g.set_edge(0, 3, 1.0)\n",
        "g.set_edge(0, 4, 3.0)\n",
        "g.set_edge(1, 2, 2.0)\n",
        "g.set_edge(1, 4, 1.0)\n",
        "g.set_edge(3, 4, 3.0)\n",
        "g.set_edge(4, 2, 3.0)\n",
        "g.set_edge(4, 3, 3.0)"
      ],
      "metadata": {
        "id": "9IXYQk8HFUOk"
      },
      "execution_count": null,
      "outputs": []
    },
    {
      "cell_type": "markdown",
      "source": [
        "## Why This Matters"
      ],
      "metadata": {
        "id": "IM1utUtoW0XW"
      }
    }
  ]
}