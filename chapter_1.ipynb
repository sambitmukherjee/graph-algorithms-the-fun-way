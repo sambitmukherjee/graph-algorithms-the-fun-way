{
  "nbformat": 4,
  "nbformat_minor": 0,
  "metadata": {
    "colab": {
      "provenance": [],
      "authorship_tag": "ABX9TyOKQuggrfx6sNjhMdAj4noQ"
    },
    "kernelspec": {
      "name": "python3",
      "display_name": "Python 3"
    },
    "language_info": {
      "name": "python"
    }
  },
  "cells": [
    {
      "cell_type": "markdown",
      "source": [
        "# Chapter 1 - Representing Graphs"
      ],
      "metadata": {
        "id": "iaAyVfLXCBKt"
      }
    },
    {
      "cell_type": "markdown",
      "source": [
        "## Graph Structure"
      ],
      "metadata": {
        "id": "V0hTVZjnCa_d"
      }
    },
    {
      "cell_type": "markdown",
      "source": [
        "## The Adjacency List Representation"
      ],
      "metadata": {
        "id": "84_RqVXfCdSC"
      }
    },
    {
      "cell_type": "code",
      "source": [
        "g: list = [[1, 3, 4], [0, 2, 4], [1, 4], [0, 4], [0, 1, 2, 3]]\n",
        "g"
      ],
      "metadata": {
        "colab": {
          "base_uri": "https://localhost:8080/"
        },
        "id": "5LRA67GvNLeG",
        "outputId": "e8f97129-a98e-4a68-8728-b3e976509f88"
      },
      "execution_count": 1,
      "outputs": [
        {
          "output_type": "execute_result",
          "data": {
            "text/plain": [
              "[[1, 3, 4], [0, 2, 4], [1, 4], [0, 4], [0, 1, 2, 3]]"
            ]
          },
          "metadata": {},
          "execution_count": 1
        }
      ]
    },
    {
      "cell_type": "code",
      "source": [
        "class Edge:\n",
        "    def __init__(self, from_node: int, to_node: int, weight: float):\n",
        "        self.from_node = from_node\n",
        "        self.to_node = to_node\n",
        "        self.weight = weight"
      ],
      "metadata": {
        "id": "d7WxeFM6NklR"
      },
      "execution_count": 2,
      "outputs": []
    },
    {
      "cell_type": "markdown",
      "source": [
        "---\n",
        "\n",
        "Exploratory:"
      ],
      "metadata": {
        "id": "17t7MuOl2tyl"
      }
    },
    {
      "cell_type": "code",
      "source": [
        "d = {'a': 1, 'b': 2}\n",
        "d.values()"
      ],
      "metadata": {
        "colab": {
          "base_uri": "https://localhost:8080/"
        },
        "id": "TzVAikdDPKRC",
        "outputId": "276d83f5-0369-41a6-e89e-71f2fbd48b0a"
      },
      "execution_count": 3,
      "outputs": [
        {
          "output_type": "execute_result",
          "data": {
            "text/plain": [
              "dict_values([1, 2])"
            ]
          },
          "metadata": {},
          "execution_count": 3
        }
      ]
    },
    {
      "cell_type": "code",
      "source": [
        "list(d.values())"
      ],
      "metadata": {
        "colab": {
          "base_uri": "https://localhost:8080/"
        },
        "id": "ZPtufSaWPUJN",
        "outputId": "545f4b4f-b6ea-4a5b-8d56-6941b4c460ab"
      },
      "execution_count": 4,
      "outputs": [
        {
          "output_type": "execute_result",
          "data": {
            "text/plain": [
              "[1, 2]"
            ]
          },
          "metadata": {},
          "execution_count": 4
        }
      ]
    },
    {
      "cell_type": "code",
      "source": [
        "# Alt:\n",
        "(list)(d.values())"
      ],
      "metadata": {
        "colab": {
          "base_uri": "https://localhost:8080/"
        },
        "id": "2f8WTtpnPYfC",
        "outputId": "fad7fcb6-d6a5-4b8b-bebf-b194ee0cf1b9"
      },
      "execution_count": 5,
      "outputs": [
        {
          "output_type": "execute_result",
          "data": {
            "text/plain": [
              "[1, 2]"
            ]
          },
          "metadata": {},
          "execution_count": 5
        }
      ]
    },
    {
      "cell_type": "code",
      "source": [
        "(d.values())"
      ],
      "metadata": {
        "colab": {
          "base_uri": "https://localhost:8080/"
        },
        "id": "ldP0oVrqPb1X",
        "outputId": "0831903f-bf3b-401c-eadb-d2a42f43ee47"
      },
      "execution_count": 6,
      "outputs": [
        {
          "output_type": "execute_result",
          "data": {
            "text/plain": [
              "dict_values([1, 2])"
            ]
          },
          "metadata": {},
          "execution_count": 6
        }
      ]
    },
    {
      "cell_type": "code",
      "source": [
        "d.keys()"
      ],
      "metadata": {
        "colab": {
          "base_uri": "https://localhost:8080/"
        },
        "id": "WgytM_btPfQO",
        "outputId": "e85dd1da-4119-4d40-c64f-e5fd7341e8e4"
      },
      "execution_count": 7,
      "outputs": [
        {
          "output_type": "execute_result",
          "data": {
            "text/plain": [
              "dict_keys(['a', 'b'])"
            ]
          },
          "metadata": {},
          "execution_count": 7
        }
      ]
    },
    {
      "cell_type": "code",
      "source": [
        "list(d.keys())"
      ],
      "metadata": {
        "colab": {
          "base_uri": "https://localhost:8080/"
        },
        "id": "ZnngY7PxPgvN",
        "outputId": "7725f58a-ad3e-4f14-865e-b865e24357f0"
      },
      "execution_count": 8,
      "outputs": [
        {
          "output_type": "execute_result",
          "data": {
            "text/plain": [
              "['a', 'b']"
            ]
          },
          "metadata": {},
          "execution_count": 8
        }
      ]
    },
    {
      "cell_type": "code",
      "source": [
        "# Alt:\n",
        "(list)(d.keys())"
      ],
      "metadata": {
        "colab": {
          "base_uri": "https://localhost:8080/"
        },
        "id": "J4TpFNqFPi0F",
        "outputId": "86938028-17ab-4bda-e6c5-2abefe712ab7"
      },
      "execution_count": 9,
      "outputs": [
        {
          "output_type": "execute_result",
          "data": {
            "text/plain": [
              "['a', 'b']"
            ]
          },
          "metadata": {},
          "execution_count": 9
        }
      ]
    },
    {
      "cell_type": "code",
      "source": [
        "(d.keys())"
      ],
      "metadata": {
        "colab": {
          "base_uri": "https://localhost:8080/"
        },
        "id": "iZS6e4aBPleU",
        "outputId": "aa11cef5-c1cd-470a-a009-c46f5967d20b"
      },
      "execution_count": 10,
      "outputs": [
        {
          "output_type": "execute_result",
          "data": {
            "text/plain": [
              "dict_keys(['a', 'b'])"
            ]
          },
          "metadata": {},
          "execution_count": 10
        }
      ]
    },
    {
      "cell_type": "markdown",
      "source": [
        "---\n",
        "\n",
        "Exploratory:"
      ],
      "metadata": {
        "id": "K1PrmZ2q2vf9"
      }
    },
    {
      "cell_type": "code",
      "source": [
        "l = [3, 5, 4]\n",
        "# Not in-place:\n",
        "sorted(l)"
      ],
      "metadata": {
        "colab": {
          "base_uri": "https://localhost:8080/"
        },
        "id": "Ywe7b_BhQJkC",
        "outputId": "05620fc2-8215-4070-f358-73ace803db8a"
      },
      "execution_count": 11,
      "outputs": [
        {
          "output_type": "execute_result",
          "data": {
            "text/plain": [
              "[3, 4, 5]"
            ]
          },
          "metadata": {},
          "execution_count": 11
        }
      ]
    },
    {
      "cell_type": "code",
      "source": [
        "l"
      ],
      "metadata": {
        "colab": {
          "base_uri": "https://localhost:8080/"
        },
        "id": "S-VKnueuQNlY",
        "outputId": "f861f0ef-c940-4b83-b2a8-e73bf3ee4940"
      },
      "execution_count": 12,
      "outputs": [
        {
          "output_type": "execute_result",
          "data": {
            "text/plain": [
              "[3, 5, 4]"
            ]
          },
          "metadata": {},
          "execution_count": 12
        }
      ]
    },
    {
      "cell_type": "code",
      "source": [
        "# In-place:\n",
        "l.sort()"
      ],
      "metadata": {
        "id": "gqRM-TEgQOnd"
      },
      "execution_count": 13,
      "outputs": []
    },
    {
      "cell_type": "code",
      "source": [
        "l"
      ],
      "metadata": {
        "colab": {
          "base_uri": "https://localhost:8080/"
        },
        "id": "n8F58rsgQRPL",
        "outputId": "62b33480-e267-463c-d06f-9b5007d8cb3a"
      },
      "execution_count": 14,
      "outputs": [
        {
          "output_type": "execute_result",
          "data": {
            "text/plain": [
              "[3, 4, 5]"
            ]
          },
          "metadata": {},
          "execution_count": 14
        }
      ]
    },
    {
      "cell_type": "markdown",
      "source": [
        "---"
      ],
      "metadata": {
        "id": "DnVmPDdG2xlB"
      }
    },
    {
      "cell_type": "code",
      "source": [
        "# Exploratory:\n",
        "print(d)\n",
        "print(len(d))"
      ],
      "metadata": {
        "colab": {
          "base_uri": "https://localhost:8080/"
        },
        "id": "E1XS3OkZQUtL",
        "outputId": "8e19ff7d-6cab-453d-aa62-6d9ed4febf0b"
      },
      "execution_count": 15,
      "outputs": [
        {
          "output_type": "stream",
          "name": "stdout",
          "text": [
            "{'a': 1, 'b': 2}\n",
            "2\n"
          ]
        }
      ]
    },
    {
      "cell_type": "markdown",
      "source": [
        "---"
      ],
      "metadata": {
        "id": "fQhKeeXQQY1V"
      }
    },
    {
      "cell_type": "code",
      "source": [
        "from typing import Optional, Union\n",
        "\n",
        "class Node:\n",
        "    def __init__(self, index: int, label: Optional[Union[int, str, object]] = None):\n",
        "        self.index = index\n",
        "        self.label = label\n",
        "        self.edges = {}\n",
        "\n",
        "    def num_edges(self) -> int:\n",
        "        return len(self.edges)\n",
        "\n",
        "    def get_edge(self, neighbor: int) -> Union[Edge, None]:\n",
        "        if neighbor in self.edges:\n",
        "            return self.edges[neighbor]\n",
        "        return None\n",
        "\n",
        "    def add_edge(self, neighbor: int, weight: float):\n",
        "        self.edges[neighbor] = Edge(self.index, neighbor, weight)\n",
        "\n",
        "    def remove_edge(self, neighbor: int):\n",
        "        if neighbor in self.edges:\n",
        "            del self.edges[neighbor]\n",
        "\n",
        "    def get_edge_list(self) -> list:\n",
        "        return list(self.edges.values())\n",
        "\n",
        "    def get_sorted_edge_list(self) -> list:\n",
        "        result = []\n",
        "        neighbors = list(self.edges.keys())\n",
        "        neighbors.sort()\n",
        "        for n in neighbors:\n",
        "            result.append(self.edges[n])\n",
        "        return result"
      ],
      "metadata": {
        "id": "LfMwMP5SKwZF"
      },
      "execution_count": null,
      "outputs": []
    },
    {
      "cell_type": "markdown",
      "source": [
        "**Note:** In the above class, `neighbor` refers to (the index of) a neighboring node."
      ],
      "metadata": {
        "id": "CvM5xcVuMDET"
      }
    },
    {
      "cell_type": "code",
      "source": [
        "class Graph:\n",
        "    def __init__(self, num_nodes: int, undirected: bool = False):\n",
        "        self.num_nodes = num_nodes\n",
        "        self.undirected = undirected\n",
        "        self.nodes = [Node(j) for j in range(num_nodes)]\n",
        "        # Note: The index of a particular item in the above list will match the index attribute of the corresponding `Node` object.\n",
        "\n",
        "    def get_edge(self, from_node: int, to_node: int) -> Union[Edge, None]:\n",
        "        if from_node < 0 or from_node >= self.num_nodes:\n",
        "            raise IndexError\n",
        "        if to_node < 0 or to_node >= self.num_nodes:\n",
        "            raise IndexError\n",
        "        return self.nodes[from_node].get_edge(to_node) # This will return `None` if an edge from `from_node` to `to_node` doesn't exist.\n",
        "\n",
        "    def is_edge(self, from_node: int, to_node: int) -> bool:\n",
        "        return self.get_edge(from_node, to_node) is not None\n",
        "\n",
        "    def make_edge_list(self) -> list:\n",
        "        all_edges = []\n",
        "        for node in self.nodes:\n",
        "            all_edges.extend(node.get_edge_list())\n",
        "        return all_edges\n",
        "\n",
        "    def insert_edge(self, from_node: int, to_node: int, weight: float):\n",
        "        if from_node < 0 or from_node >= self.num_nodes:\n",
        "            raise IndexError\n",
        "        if to_node < 0 or to_node >= self.num_nodes:\n",
        "            raise IndexError\n",
        "        self.nodes[from_node].add_edge(to_node, weight)\n",
        "        if self.undirected:\n",
        "            self.nodes[to_node].add_edge(from_node, weight)\n",
        "\n",
        "    def remove_edge(self, from_node: int, to_node: int):\n",
        "        if from_node < 0 or from_node >= self.num_nodes:\n",
        "            raise IndexError\n",
        "        if to_node < 0 or to_node >= self.num_nodes:\n",
        "            raise IndexError\n",
        "        self.nodes[from_node].remove_edge(to_node)\n",
        "        if self.undirected:\n",
        "            self.nodes[to_node].remove_edge(from_node)\n",
        "\n",
        "    def insert_node(self, label: Optional[Union[int, str, object]] = None) -> Node:\n",
        "        new_node = Node(self.num_nodes, label=label)\n",
        "        self.nodes.append(new_node)\n",
        "        self.num_nodes += 1\n",
        "        return new_node\n",
        "\n",
        "    def make_copy(self): # Unfortunately, adding a `-> Graph` type hint gives a `NameError`.\n",
        "        g2 = Graph(self.num_nodes, self.undirected) # Note: We're instantiating a `Graph` object from within the `Graph` class.\n",
        "        for node in self.nodes:\n",
        "            g2.nodes[node.index].label = node.label\n",
        "            for edge in node.get_edge_list():\n",
        "                g2.insert_edge(edge.from_node, edge.to_node, edge.weight)\n",
        "        return g2"
      ],
      "metadata": {
        "id": "ttb-CpFkcrzT"
      },
      "execution_count": null,
      "outputs": []
    },
    {
      "cell_type": "markdown",
      "source": [
        "**Note:**\n",
        "\n",
        "1. There is no `remove_node` method.\n",
        "2. The `insert_edge` method can be used to (i) add a new edge and (ii) update an existing edge weight (by replacing the existing `Edge` object with a new one)."
      ],
      "metadata": {
        "id": "2yJSjLaKa0ct"
      }
    },
    {
      "cell_type": "code",
      "source": [
        "g: Graph = Graph(5, undirected=False)\n",
        "g.insert_edge(0, 1, 1.0)\n",
        "g.insert_edge(0, 3, 1.0)\n",
        "g.insert_edge(0, 4, 3.0)\n",
        "g.insert_edge(1, 2, 2.0)\n",
        "g.insert_edge(1, 4, 1.0)\n",
        "g.insert_edge(3, 4, 3.0)\n",
        "g.insert_edge(4, 2, 3.0)\n",
        "g.insert_edge(4, 3, 3.0)"
      ],
      "metadata": {
        "id": "0VxeFnnUni1h"
      },
      "execution_count": null,
      "outputs": []
    },
    {
      "cell_type": "markdown",
      "source": [
        "## The Adjacency Matrix Representation"
      ],
      "metadata": {
        "id": "sO_rj0jwCosZ"
      }
    },
    {
      "cell_type": "code",
      "source": [
        "class GraphMatrix:\n",
        "    def __init__(self, num_nodes: int, undirected: bool=False):\n",
        "        self.num_nodes = num_nodes\n",
        "        self.undirected = undirected\n",
        "        self.connections = [[0.0] * num_nodes for _ in range(num_nodes)]\n",
        "\n",
        "    def get_edge(self, from_node: int, to_node: int) -> float:\n",
        "        if from_node < 0 or from_node >= self.num_nodes:\n",
        "            raise IndexError\n",
        "        if to_node < 0 or to_node >= self.num_nodes:\n",
        "            raise IndexError\n",
        "        return self.connections[from_node][to_node]\n",
        "\n",
        "    def set_edge(self, from_node: int, to_node: int, weight: float):\n",
        "        if from_node < 0 or from_node >= self.num_nodes:\n",
        "            raise IndexError\n",
        "        if to_node < 0 or to_node >= self.num_nodes:\n",
        "            raise IndexError\n",
        "        self.connections[from_node][to_node] = weight\n",
        "        if self.undirected:\n",
        "            self.connections[to_node][from_node] = weight"
      ],
      "metadata": {
        "id": "DMwd8rVdlxxJ"
      },
      "execution_count": null,
      "outputs": []
    },
    {
      "cell_type": "markdown",
      "source": [
        "**Note:** If the above class, there is no provision to add a node after the graph has been instantiated."
      ],
      "metadata": {
        "id": "i6YicsNApcok"
      }
    },
    {
      "cell_type": "code",
      "source": [
        "g: GraphMatrix = GraphMatrix(5, undirected=False)\n",
        "g.set_edge(0, 1, 1.0)\n",
        "g.set_edge(0, 3, 1.0)\n",
        "g.set_edge(0, 4, 3.0)\n",
        "g.set_edge(1, 2, 2.0)\n",
        "g.set_edge(1, 4, 1.0)\n",
        "g.set_edge(3, 4, 3.0)\n",
        "g.set_edge(4, 2, 3.0)\n",
        "g.set_edge(4, 3, 3.0)"
      ],
      "metadata": {
        "id": "9IXYQk8HFUOk"
      },
      "execution_count": null,
      "outputs": []
    },
    {
      "cell_type": "markdown",
      "source": [
        "## Why This Matters"
      ],
      "metadata": {
        "id": "IM1utUtoW0XW"
      }
    }
  ]
}